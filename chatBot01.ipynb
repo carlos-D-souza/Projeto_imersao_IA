{
  "nbformat": 4,
  "nbformat_minor": 0,
  "metadata": {
    "colab": {
      "provenance": [],
      "authorship_tag": "####",
      "include_colab_link": true
    },
    "kernelspec": {
      "name": "python3",
      "display_name": "Python 3"
    },
    "language_info": {
      "name": "python"
    }
  },
  "cells": [
    {
      "cell_type": "markdown",
      "metadata": {
        "id": "view-in-github",
        "colab_type": "text"
      },
      "source": [
        "<a href=\"https://colab.research.google.com/github/carlos-D-souza/Projeto_imersao_IA/blob/main/chatBot01.ipynb\" target=\"_parent\"><img src=\"https://colab.research.google.com/assets/colab-badge.svg\" alt=\"Open In Colab\"/></a>"
      ]
    },
    {
      "cell_type": "markdown",
      "source": [
        "Instalando o SDK do Google"
      ],
      "metadata": {
        "id": "PJVjVB-bcSZb"
      }
    },
    {
      "cell_type": "code",
      "execution_count": 1,
      "metadata": {
        "colab": {
          "base_uri": "https://localhost:8080/"
        },
        "id": "3PSaP3A5PKdO",
        "outputId": "32f84e55-3c84-419c-f875-3df390505232"
      },
      "outputs": [
        {
          "output_type": "stream",
          "name": "stdout",
          "text": [
            "\u001b[?25l     \u001b[90m━━━━━━━━━━━━━━━━━━━━━━━━━━━━━━━━━━━━━━━━\u001b[0m \u001b[32m0.0/150.7 kB\u001b[0m \u001b[31m?\u001b[0m eta \u001b[36m-:--:--\u001b[0m\r\u001b[2K     \u001b[91m━━━━━━━━━━━━━━━━━━━━━\u001b[0m\u001b[91m╸\u001b[0m\u001b[90m━━━━━━━━━━━━━━━━━━\u001b[0m \u001b[32m81.9/150.7 kB\u001b[0m \u001b[31m2.2 MB/s\u001b[0m eta \u001b[36m0:00:01\u001b[0m\r\u001b[2K     \u001b[90m━━━━━━━━━━━━━━━━━━━━━━━━━━━━━━━━━━━━━━━━\u001b[0m \u001b[32m150.7/150.7 kB\u001b[0m \u001b[31m2.3 MB/s\u001b[0m eta \u001b[36m0:00:00\u001b[0m\n",
            "\u001b[?25h\u001b[?25l     \u001b[90m━━━━━━━━━━━━━━━━━━━━━━━━━━━━━━━━━━━━━━━━\u001b[0m \u001b[32m0.0/677.8 kB\u001b[0m \u001b[31m?\u001b[0m eta \u001b[36m-:--:--\u001b[0m\r\u001b[2K     \u001b[91m━━━━━━━━━━━━━━━━━━━━━━━━━━━━━━━━━\u001b[0m\u001b[90m╺\u001b[0m\u001b[90m━━━━━━\u001b[0m \u001b[32m563.2/677.8 kB\u001b[0m \u001b[31m16.3 MB/s\u001b[0m eta \u001b[36m0:00:01\u001b[0m\r\u001b[2K     \u001b[90m━━━━━━━━━━━━━━━━━━━━━━━━━━━━━━━━━━━━━━━━\u001b[0m \u001b[32m677.8/677.8 kB\u001b[0m \u001b[31m11.0 MB/s\u001b[0m eta \u001b[36m0:00:00\u001b[0m\n",
            "\u001b[?25h"
          ]
        }
      ],
      "source": [
        "!pip install -q -U google-generativeai"
      ]
    },
    {
      "cell_type": "code",
      "source": [
        "import google.generativeai as genai\n",
        "\n",
        "GOOGLE_API_KEY=\"123456789\"\n",
        "genai.configure(api_key=GOOGLE_API_KEY)"
      ],
      "metadata": {
        "id": "Zp7BGF2xc47H"
      },
      "execution_count": 3,
      "outputs": []
    },
    {
      "cell_type": "markdown",
      "source": [
        "Listar os modelos do Gemni"
      ],
      "metadata": {
        "id": "6HTxnOxWdvJ5"
      }
    },
    {
      "cell_type": "code",
      "source": [
        "for m in genai.list_models(): #.ctrl+espaço p/opções\n",
        "  if 'generateContent' in m.supported_generation_methods:\n",
        "    print(m.name)"
      ],
      "metadata": {
        "colab": {
          "base_uri": "https://localhost:8080/",
          "height": 138
        },
        "id": "RsirR6Wedppn",
        "outputId": "96d916fb-d151-4fcc-bba1-5c6c667e36d8"
      },
      "execution_count": 5,
      "outputs": [
        {
          "output_type": "stream",
          "name": "stdout",
          "text": [
            "models/gemini-1.0-pro\n",
            "models/gemini-1.0-pro-001\n",
            "models/gemini-1.0-pro-latest\n",
            "models/gemini-1.0-pro-vision-latest\n",
            "models/gemini-1.5-pro-latest\n",
            "models/gemini-pro\n",
            "models/gemini-pro-vision\n"
          ]
        }
      ]
    },
    {
      "cell_type": "code",
      "source": [
        "generation_config = {\n",
        "    'candidate_count': 1,\n",
        "    'temperature': 0.5,\n",
        "}"
      ],
      "metadata": {
        "id": "YOWYs9ytjKlM"
      },
      "execution_count": 6,
      "outputs": []
    },
    {
      "cell_type": "code",
      "source": [
        "safety_settings = {\n",
        "     'HARASSMENT': 'BLOCK_NONE',\n",
        "     'HATE': 'BLOCK_NONE',\n",
        "     'SEXUAL': 'BLOCK_NONE',\n",
        "     'DANGEROUS': 'BLOCK_NONE',\n",
        "}"
      ],
      "metadata": {
        "id": "WG9WwI0SkpyO"
      },
      "execution_count": 7,
      "outputs": []
    },
    {
      "cell_type": "markdown",
      "source": [
        "Inicializando o modelo"
      ],
      "metadata": {
        "id": "IxI01CiDmhF6"
      }
    },
    {
      "cell_type": "code",
      "source": [
        "model = genai.GenerativeModel(model_name='gemini-1.0-pro', generation_config=generation_config, safety_settings=safety_settings)"
      ],
      "metadata": {
        "id": "qXBOh-oDmd2c"
      },
      "execution_count": 8,
      "outputs": []
    },
    {
      "cell_type": "code",
      "source": [
        "response = model.generate_content(\"Escreva uma história sobre um urso que canta musica da Rihanna em Polonês\")\n",
        "print(response.text)"
      ],
      "metadata": {
        "colab": {
          "base_uri": "https://localhost:8080/",
          "height": 349
        },
        "id": "H1VIDjD5sCEi",
        "outputId": "45051780-a64a-4336-fe3e-3acbc79fb5d5"
      },
      "execution_count": 9,
      "outputs": [
        {
          "output_type": "stream",
          "name": "stdout",
          "text": [
            "No coração da floresta, onde os pinheiros se erguiam majestosos, vivia um urso extraordinário chamado Ursus. Ao contrário de seus companheiros ursinos, Ursus possuía um talento secreto: cantar música da cantora pop Rihanna... em polonês.\n",
            "\n",
            "Certa tarde ensolarada, enquanto Ursus passeava pela floresta, seus ouvidos captaram os sons de uma melodia familiar. Era \"Diamonds\", o sucesso de Rihanna, ecoando através das árvores. Uma onda de nostalgia tomou conta dele, e ele não resistiu ao impulso de cantar junto.\n",
            "\n",
            "Mas Ursus não cantou em inglês. Em vez disso, sua voz profunda e retumbante ressoou pela floresta em polonês, transformando as letras em uma obra-prima linguística:\n",
            "\n",
            "\"Brylanty na niebie,\n",
            "Brylanty w twoich oczach,\n",
            "Brylanty w moim sercu,\n",
            "Brylanty w moich myślach.\"\n",
            "\n",
            "Os outros animais da floresta ficaram atônitos. Nunca tinham ouvido um urso cantar antes, muito menos em polonês. Os pássaros pararam de cantar, os esquilos congelaram em seus galhos e até mesmo os lobos uivaram em admiração.\n",
            "\n",
            "À medida que Ursus continuava sua apresentação, sua voz se elevava e caía, preenchendo a floresta com uma melodia doce e comovente. Os animais se reuniram ao seu redor, hipnotizados por seu talento único.\n",
            "\n",
            "Quando a última nota ecoou, um silêncio caiu sobre a floresta. Os animais aplaudiram e assobiaram, expressando seu espanto e deleite. Ursus, o urso cantor polonês, havia se tornado uma lenda.\n",
            "\n",
            "A partir daquele dia, Ursus se tornou uma sensação na floresta. Os animais vinham de longe para ouvi-lo cantar, e ele sempre os encantava com suas interpretações polonesas das canções de Rihanna. E assim, o urso que cantava Rihanna em polonês continuou a espalhar alegria e música por toda a floresta.\n"
          ]
        }
      ]
    },
    {
      "cell_type": "code",
      "source": [
        "chat = model.start_chat(history=[])"
      ],
      "metadata": {
        "id": "OTRMO-cdsR7Y"
      },
      "execution_count": 10,
      "outputs": []
    },
    {
      "cell_type": "code",
      "source": [
        "prompt = input('Esperando Prompt: ')\n",
        "\n",
        "while prompt != 'fim':\n",
        "  response = chat.send_message(prompt)\n",
        "  print(f'resposta: {response.text}\\n')\n",
        "  prompt = input('Esperando Prompt: ')"
      ],
      "metadata": {
        "colab": {
          "base_uri": "https://localhost:8080/",
          "height": 295
        },
        "id": "AJG0SBmttw5g",
        "outputId": "169de043-923f-4f11-f2a6-3738f45a103a"
      },
      "execution_count": 11,
      "outputs": [
        {
          "name": "stdout",
          "output_type": "stream",
          "text": [
            "Esperando Prompt: Qual a capital de cuba?\n",
            "resposta: Havana\n",
            "\n",
            "Esperando Prompt: Qual a comida típica deste país?\n",
            "resposta: Ropa Vieja\n",
            "\n",
            "Esperando Prompt: Meu primo nasceu nessa cidade, qual a nacionalidade dele?\n",
            "resposta: Cubano\n",
            "\n",
            "Esperando Prompt: Qual i IDH deste país?\n",
            "resposta: 0,788 (2022)\n",
            "\n",
            "Esperando Prompt: Qual o IDH deste país?\n",
            "resposta: 0,788 (2022)\n",
            "\n",
            "Esperando Prompt: fim\n"
          ]
        }
      ]
    },
    {
      "cell_type": "code",
      "source": [
        "chat"
      ],
      "metadata": {
        "colab": {
          "base_uri": "https://localhost:8080/"
        },
        "id": "dr5Sv6h7vL6V",
        "outputId": "916e7a05-0bc6-45ad-d9c9-6cd528d9e4d9"
      },
      "execution_count": 13,
      "outputs": [
        {
          "output_type": "execute_result",
          "data": {
            "text/plain": [
              "ChatSession(\n",
              "    model=genai.GenerativeModel(\n",
              "        model_name='models/gemini-1.0-pro',\n",
              "        generation_config={'candidate_count': 1, 'temperature': 0.5},\n",
              "        safety_settings={<HarmCategory.HARM_CATEGORY_HARASSMENT: 7>: <HarmBlockThreshold.BLOCK_NONE: 4>, <HarmCategory.HARM_CATEGORY_HATE_SPEECH: 8>: <HarmBlockThreshold.BLOCK_NONE: 4>, <HarmCategory.HARM_CATEGORY_SEXUALLY_EXPLICIT: 9>: <HarmBlockThreshold.BLOCK_NONE: 4>, <HarmCategory.HARM_CATEGORY_DANGEROUS_CONTENT: 10>: <HarmBlockThreshold.BLOCK_NONE: 4>},\n",
              "        tools=None,\n",
              "        system_instruction=None,\n",
              "    ),\n",
              "    history=[glm.Content({'parts': [{'text': 'Qual a capital de cuba?'}], 'role': 'user'}), glm.Content({'parts': [{'text': 'Havana'}], 'role': 'model'}), glm.Content({'parts': [{'text': 'Qual a comid...a deste país?'}], 'role': 'user'}), glm.Content({'parts': [{'text': 'Ropa Vieja'}], 'role': 'model'}), glm.Content({'parts': [{'text': 'Meu primo na...alidade dele?'}], 'role': 'user'}), glm.Content({'parts': [{'text': 'Cubano'}], 'role': 'model'}), glm.Content({'parts': [{'text': 'Qual i IDH deste país?'}], 'role': 'user'}), glm.Content({'parts': [{'text': '0,788 (2022)'}], 'role': 'model'}), glm.Content({'parts': [{'text': 'Qual o IDH deste país?'}], 'role': 'user'}), glm.Content({'parts': [{'text': '0,788 (2022)'}], 'role': 'model'})]\n",
              ")"
            ]
          },
          "metadata": {},
          "execution_count": 13
        }
      ]
    },
    {
      "cell_type": "code",
      "source": [
        "chat.history"
      ],
      "metadata": {
        "colab": {
          "base_uri": "https://localhost:8080/"
        },
        "id": "D9I40_s-wHiW",
        "outputId": "c02638f6-5bc0-4360-dc0f-086e781c5d87"
      },
      "execution_count": 14,
      "outputs": [
        {
          "output_type": "execute_result",
          "data": {
            "text/plain": [
              "[parts {\n",
              "   text: \"Qual a capital de cuba?\"\n",
              " }\n",
              " role: \"user\",\n",
              " parts {\n",
              "   text: \"Havana\"\n",
              " }\n",
              " role: \"model\",\n",
              " parts {\n",
              "   text: \"Qual a comida t\\303\\255pica deste pa\\303\\255s?\"\n",
              " }\n",
              " role: \"user\",\n",
              " parts {\n",
              "   text: \"Ropa Vieja\"\n",
              " }\n",
              " role: \"model\",\n",
              " parts {\n",
              "   text: \"Meu primo nasceu nessa cidade, qual a nacionalidade dele?\"\n",
              " }\n",
              " role: \"user\",\n",
              " parts {\n",
              "   text: \"Cubano\"\n",
              " }\n",
              " role: \"model\",\n",
              " parts {\n",
              "   text: \"Qual i IDH deste pa\\303\\255s?\"\n",
              " }\n",
              " role: \"user\",\n",
              " parts {\n",
              "   text: \"0,788 (2022)\"\n",
              " }\n",
              " role: \"model\",\n",
              " parts {\n",
              "   text: \"Qual o IDH deste pa\\303\\255s?\"\n",
              " }\n",
              " role: \"user\",\n",
              " parts {\n",
              "   text: \"0,788 (2022)\"\n",
              " }\n",
              " role: \"model\"]"
            ]
          },
          "metadata": {},
          "execution_count": 14
        }
      ]
    },
    {
      "cell_type": "code",
      "source": [],
      "metadata": {
        "id": "9kJN0bTAwJaD"
      },
      "execution_count": null,
      "outputs": []
    }
  ]
}
